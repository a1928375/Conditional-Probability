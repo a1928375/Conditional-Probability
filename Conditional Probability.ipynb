{
 "cells": [
  {
   "cell_type": "markdown",
   "metadata": {},
   "source": [
    "# 1. Two boys among one boy group"
   ]
  },
  {
   "cell_type": "code",
   "execution_count": 5,
   "metadata": {},
   "outputs": [
    {
     "name": "stdout",
     "output_type": "stream",
     "text": [
      "1/3\n"
     ]
    }
   ],
   "source": [
    "import itertools\n",
    "from fractions import Fraction\n",
    "\n",
    "sex = \"BG\"\n",
    "\n",
    "def product(*variables):\n",
    "    \"\"\"The cartesian product (as a str) of the possibilities for each variable.\"\"\"\n",
    "    \n",
    "    return map(\"\".join, itertools.product(*variables))\n",
    "\n",
    "two_kids = product(sex, sex)\n",
    "\n",
    "one_boy = [s for s in two_kids if \"B\" in s]\n",
    "\n",
    "def two_boys(s): \n",
    "    \n",
    "    return s.count(\"B\") is 2\n",
    "\n",
    "def condP(predicate, event):\n",
    "    \"\"\"Conditional probability: P(predicate(s) | s in event). The proportion of states in event for which predicate is true.\"\"\"\n",
    "    \n",
    "    pred = [s for s in event if predicate(s)]\n",
    "    \n",
    "    return Fraction(len(pred), len(event))\n",
    "\n",
    "print (condP(two_boys, one_boy))\n"
   ]
  },
  {
   "cell_type": "markdown",
   "metadata": {},
   "source": [
    "# 2. Two boys on Tuesday"
   ]
  },
  {
   "cell_type": "code",
   "execution_count": 14,
   "metadata": {},
   "outputs": [
    {
     "name": "stdout",
     "output_type": "stream",
     "text": [
      "13/27\n"
     ]
    }
   ],
   "source": [
    "import itertools\n",
    "from fractions import Fraction\n",
    "\n",
    "sex = \"BG\"\n",
    "day = \"SMTWtFs\"\n",
    "\n",
    "def product(*variables):\n",
    "    \"\"\"The cartesian product (as a str) of the possibilities for each variable.\"\"\"\n",
    "    \n",
    "    return map(\"\".join, itertools.product(*variables))\n",
    "\n",
    "two_kids_bday = product(sex, day, sex, day)\n",
    "\n",
    "boy_tuesday = [s for s in two_kids_bday if \"BT\" in s]\n",
    "\n",
    "def two_boys(s): \n",
    "    \n",
    "    return s.count(\"B\") is 2\n",
    "\n",
    "def condP(predicate, event):\n",
    "    \"\"\"Conditional probability: P(predicate(s) | s in event). The proportion of states in event for which predicate is true.\"\"\"\n",
    "    \n",
    "    pred = [s for s in event if predicate(s)]\n",
    "    \n",
    "    return Fraction(len(pred), len(event))\n",
    "\n",
    "print (condP(two_boys, boy_tuesday))\n"
   ]
  }
 ],
 "metadata": {
  "kernelspec": {
   "display_name": "Python 3",
   "language": "python",
   "name": "python3"
  },
  "language_info": {
   "codemirror_mode": {
    "name": "ipython",
    "version": 3
   },
   "file_extension": ".py",
   "mimetype": "text/x-python",
   "name": "python",
   "nbconvert_exporter": "python",
   "pygments_lexer": "ipython3",
   "version": "3.7.3"
  }
 },
 "nbformat": 4,
 "nbformat_minor": 2
}
